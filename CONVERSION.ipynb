{
 "cells": [
  {
   "cell_type": "code",
   "execution_count": 49,
   "metadata": {},
   "outputs": [],
   "source": [
    "import pandas as pd\n",
    "import os\n",
    "from root_pandas import read_root\n",
    "# df1 = read_root(\"DATA/B0_etapr-eta-gg2pi_KS-pi+pi-_output_ccbar_0.root\", 'All')\n",
    "# df2 = read_root(\"DATA/B0_etapr-eta-gg2pi_KS-pi+pi-_output_ccbar_0.root\", 'B0')\n",
    "# B0_etapr-eta-gg2pi_KS-pi+pi-_output_ddbar_0.root 10  (Forse abbiamo qualche problema con questo file, ci ha messo 10 volte a caricare)"
   ]
  },
  {
   "cell_type": "code",
   "execution_count": null,
   "metadata": {},
   "outputs": [],
   "source": [
    "# Conversion cvs file, don't run it\n",
    "i=0\n",
    "for file in os.listdir(\"DATA/\"):\n",
    "    print(file,i)\n",
    "    i=i+1\n",
    "#     df1 = read_root(\"DATA/\" + file, 'All')\n",
    "#     print(file[:(len(file)-5)]+ '_All.csv',i)\n",
    "#     pd.read_csv(\"prova1.csv\",sep=' ')\n",
    "#     df1.to_csv(file[:(len(file)-4)]+ '_All.csv', sep=' ')\n",
    "# for file in os.listdir(\"DATA/\"):\n",
    "    df1 = read_root(\"DATA/\" + file, 'B0')\n",
    "    \n",
    "#     pd.read_csv(\"prova1.csv\",sep=' ')\n",
    "    df1.to_csv(file[:(len(file)-5)]+ '_B0.csv', sep=' ')\n",
    "# pd.read_csv(\"prova1.csv\",sep=' ')"
   ]
  },
  {
   "cell_type": "code",
   "execution_count": null,
   "metadata": {},
   "outputs": [],
   "source": []
  }
 ],
 "metadata": {
  "kernelspec": {
   "display_name": "Python 3",
   "language": "python",
   "name": "python3"
  },
  "language_info": {
   "codemirror_mode": {
    "name": "ipython",
    "version": 3
   },
   "file_extension": ".py",
   "mimetype": "text/x-python",
   "name": "python",
   "nbconvert_exporter": "python",
   "pygments_lexer": "ipython3",
   "version": "3.7.3"
  },
  "latex_envs": {
   "LaTeX_envs_menu_present": true,
   "autoclose": false,
   "autocomplete": true,
   "bibliofile": "biblio.bib",
   "cite_by": "apalike",
   "current_citInitial": 1,
   "eqLabelWithNumbers": true,
   "eqNumInitial": 1,
   "hotkeys": {
    "equation": "Ctrl-E",
    "itemize": "Ctrl-I"
   },
   "labels_anchors": false,
   "latex_user_defs": false,
   "report_style_numbering": false,
   "user_envs_cfg": false
  }
 },
 "nbformat": 4,
 "nbformat_minor": 2
}
