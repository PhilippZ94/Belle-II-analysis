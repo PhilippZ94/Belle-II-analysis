{
 "cells": [
  {
   "cell_type": "markdown",
   "metadata": {},
   "source": [
    "## Scattered notes\n",
    "We have the the total number of events are:\n",
    "$$N = \\int L \\, dt \\cdot \\sigma$$\n"
   ]
  },
  {
   "cell_type": "code",
   "execution_count": 1,
   "metadata": {},
   "outputs": [
    {
     "name": "stdout",
     "output_type": "stream",
     "text": [
      "Welcome to JupyROOT 6.16/00\n"
     ]
    }
   ],
   "source": [
    "import pandas as pd\n",
    "import os\n",
    "from root_pandas import read_root\n",
    "import tensorflow as tf\n",
    "import seaborn as sns"
   ]
  },
  {
   "cell_type": "code",
   "execution_count": null,
   "metadata": {},
   "outputs": [],
   "source": [
    "Background = read_root(\"DATA/B0_etapr-eta-gg2pi_KS-pi+pi-_output_ddbar_0.root\", 'B0')\n",
    "Signal = read_root(\"DATA/B0_etapr-eta-gg2pi_KS-pi+pi-_output_sgnMC9_BGx1_0.root\", 'B0')\n",
    "Important_variables=[\n",
    "\"B0_Pcms\",\"B0_P4cms\",\n",
    "\"B0_etap_Pcms\" ,\n",
    "\"B0_etap_P4cms\",\n",
    "\"B0_etap_eta_gamma0_Pcms\",\n",
    "\"B0_etap_eta_gamma0_P4cms\",   \n",
    "\"B0_etap_eta_gamma1_Pcms\",  \n",
    "\"B0_etap_eta_gamma1_P4cms\",            \n",
    "\"B0_etap_pi1_Pcms\",                     \n",
    "\"B0_K_S0_P4cms\",\n",
    "\"B0_K_S0_M\",                \n",
    "\"B0_M\",          \n",
    "\"B0_etap_M\",     \n",
    "\"B0_etap_eta_M\",\n",
    "\"B0_TrCSMVA\"]"
   ]
  },
  {
   "cell_type": "code",
   "execution_count": 10,
   "metadata": {},
   "outputs": [],
   "source": [
    "Signal_selection = Signal[Important_variables ]\n",
    "Background_selection= Background[Important_variables]\n",
    "# The Dataframe contains arrays as elements, I create a new column for each component\n",
    "B_comp = pd.concat([pd.DataFrame(Background_selection[c].tolist()).add_prefix(c[:c.index('4')]).add_suffix(c[c.index('4')+1:]) if '4' in c else Background_selection[c] for c in Background_selection], axis=1)\n",
    "S_comp = pd.concat([pd.DataFrame(Signal_selection[c].tolist()).add_prefix(c[:c.index('4')]).add_suffix(c[c.index('4')+1:]) if '4' in c else Signal_selection[c] for c in Signal_selection], axis=1)"
   ]
  },
  {
   "cell_type": "code",
   "execution_count": null,
   "metadata": {},
   "outputs": [],
   "source": []
  }
 ],
 "metadata": {
  "kernelspec": {
   "display_name": "Python 3",
   "language": "python",
   "name": "python3"
  },
  "language_info": {
   "codemirror_mode": {
    "name": "ipython",
    "version": 3
   },
   "file_extension": ".py",
   "mimetype": "text/x-python",
   "name": "python",
   "nbconvert_exporter": "python",
   "pygments_lexer": "ipython3",
   "version": "3.7.3"
  },
  "latex_envs": {
   "LaTeX_envs_menu_present": true,
   "autoclose": false,
   "autocomplete": true,
   "bibliofile": "biblio.bib",
   "cite_by": "apalike",
   "current_citInitial": 1,
   "eqLabelWithNumbers": true,
   "eqNumInitial": 1,
   "hotkeys": {
    "equation": "Ctrl-E",
    "itemize": "Ctrl-I"
   },
   "labels_anchors": false,
   "latex_user_defs": false,
   "report_style_numbering": false,
   "user_envs_cfg": false
  }
 },
 "nbformat": 4,
 "nbformat_minor": 2
}
