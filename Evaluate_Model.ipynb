{
 "cells": [
  {
   "cell_type": "markdown",
   "metadata": {},
   "source": [
    "# Find the Cut Value"
   ]
  },
  {
   "cell_type": "code",
   "execution_count": 1,
   "metadata": {},
   "outputs": [],
   "source": [
    "import os, sys, pprint\n",
    "import math\n",
    "import glob\n",
    "import pandas as pd\n",
    "import numpy as np\n",
    "import tensorflow as tf\n",
    "from tensorflow import keras\n",
    "import matplotlib.pyplot as plt\n",
    "import joblib"
   ]
  },
  {
   "cell_type": "code",
   "execution_count": 2,
   "metadata": {},
   "outputs": [],
   "source": [
    "Local_Philipp = True"
   ]
  },
  {
   "cell_type": "code",
   "execution_count": 3,
   "metadata": {},
   "outputs": [],
   "source": [
    "# Define branches that we need for our analysis\n",
    "Masses = ['B0_M', 'B0_ErrM', 'B0_SigM', 'B0_K_S0_M', 'B0_K_S0_ErrM', 'B0_K_S0_SigM', 'B0_etap_M', 'B0_etap_ErrM', \n",
    "          'B0_etap_SigM', 'B0_etap_eta_M', 'B0_etap_eta_ErrM', 'B0_etap_eta_SigM']\n",
    "Kinetics_CMS = ['B0_Pcms', 'B0_etap_Pcms', 'B0_etap_eta_Pcms', 'B0_etap_eta_gamma0_Pcms', 'B0_etap_eta_gamma1_Pcms',\n",
    "                'B0_etap_pi0_Pcms', 'B0_etap_pi1_Pcms', 'B0_K_S0_Pcms']\n",
    "Other_Kinetics = ['B0_deltae', 'B0_mbc']\n",
    "DecayAngles = ['B0_decayAngle__bo0__bc', 'B0_decayAngle__bo1__bc', 'B0_etap_decayAngle__bo0__bc',\n",
    "               'B0_etap_decayAngle__bo1__bc', 'B0_etap_decayAngle__bo2__bc']\n",
    "Positions = ['B0_X', 'B0_ErrX', 'B0_Y', 'B0_ErrY', 'B0_Z', 'B0_ErrZ', 'B0_Rho',  \n",
    "             'B0_etap_X', 'B0_etap_ErrX', 'B0_etap_Y', 'B0_etap_ErrY', \n",
    "             'B0_etap_Z', 'B0_etap_ErrZ', 'B0_etap_Rho',\n",
    "             'B0_etap_eta_X', 'B0_etap_eta_ErrX', 'B0_etap_eta_Y',\n",
    "             'B0_etap_eta_ErrY', 'B0_etap_eta_Z', 'B0_etap_eta_ErrZ', 'B0_etap_eta_Rho',\n",
    "             'B0_etap_pi0_X', 'B0_etap_pi0_ErrX', 'B0_etap_pi0_Y', 'B0_etap_pi0_ErrY', \n",
    "             'B0_etap_pi0_Z', 'B0_etap_pi0_ErrZ', 'B0_etap_pi0_Rho', \n",
    "             'B0_etap_pi1_X', 'B0_etap_pi1_ErrX', 'B0_etap_pi1_Y', 'B0_etap_pi1_ErrY', \n",
    "             'B0_etap_pi1_Z', 'B0_etap_pi1_ErrZ', 'B0_etap_pi1_Rho', \n",
    "             'B0_K_S0_X', 'B0_K_S0_ErrX', 'B0_K_S0_Y', 'B0_K_S0_ErrY', 'B0_K_S0_Z',\n",
    "             'B0_K_S0_ErrZ', 'B0_K_S0_Rho', \n",
    "             'B0_cosAngleBetweenMomentumAndVertexVector', 'B0_distance', 'B0_significanceOfDistance',\n",
    "             'B0_dr', 'B0_etap_pi0_dr', 'B0_etap_pi1_dr', 'B0_K_S0_dr']\n",
    "Vertex_Training = ['B0_VtxPvalue', 'B0_etap_VtxPvalue', 'B0_etap_eta_VtxPvalue', 'B0_etap_pi0_VtxPvalue',\n",
    "                   'B0_etap_pi1_VtxPvalue', 'B0_K_S0_VtxPvalue', ]\n",
    "Continuum_Suppression_Training = ['B0_TrCSMVA']\n",
    "\n",
    "Training = Kinetics_CMS + Masses + Other_Kinetics + Continuum_Suppression_Training + Positions + DecayAngles + Vertex_Training\n",
    "Important = Training + ['B0_isSignal', 'evt_no']"
   ]
  },
  {
   "cell_type": "code",
   "execution_count": 4,
   "metadata": {},
   "outputs": [
    {
     "name": "stdout",
     "output_type": "stream",
     "text": [
      "Welcome to JupyROOT 6.16/00\n"
     ]
    },
    {
     "name": "stderr",
     "output_type": "stream",
     "text": [
      "/home/philipp/anaconda3/envs/Belle/lib/python3.7/site-packages/root_numpy/__init__.py:46: RuntimeWarning: numpy 1.16.4 is currently installed but you installed root_numpy against numpy 1.9.3. Please consider reinstalling root_numpy for this numpy version.\n",
      "  RuntimeWarning)\n"
     ]
    },
    {
     "name": "stdout",
     "output_type": "stream",
     "text": [
      "Signal :  (218596, 85)\n",
      "218596\n"
     ]
    }
   ],
   "source": [
    "from root_pandas import read_root\n",
    "\n",
    "if Local_Philipp : \n",
    "    path = '/home/philipp/Desktop/Project/DATA/'\n",
    "    SFiles = glob.glob(os.path.join(path, 'Signal/*.root'))\n",
    "    CFiles = glob.glob(os.path.join(path, 'Continuous/*.root'))\n",
    "    PFiles = glob.glob(os.path.join(path, 'Peaking/*.root'))\n",
    "    \n",
    "Signal = pd.concat((read_root(f, 'B0', columns=Important) for f in SFiles))\n",
    "Signal = Signal[Signal['B0_isSignal']==1].reset_index(drop=True)\n",
    "Continuum_bkg = pd.concat((read_root(f, 'B0', columns=Important) for f in CFiles))\n",
    "Peaking_bkg = pd.concat((read_root(f, 'B0', columns=Important) for f in PFiles))\n",
    "\n",
    "#Signal: In case of more than 1 candidate per event select the first one occuring\n",
    "Mask_duplicated = Signal.duplicated(subset='evt_no', keep='first')\n",
    "Mask_duplicated=np.logical_not(Mask_duplicated)\n",
    "Signal=Signal[Mask_duplicated]\n",
    "Signal.reset_index(drop=True, inplace=True)\n",
    "\n",
    "print(\"Signal : \",Signal.shape)\n",
    "print(Signal['evt_no'].nunique())\n",
    "\n",
    "Signal=Signal[Training]\n",
    "Continuum_bkg=Continuum_bkg[Training]\n",
    "Peaking_bkg=Peaking_bkg[Training]"
   ]
  },
  {
   "cell_type": "code",
   "execution_count": 5,
   "metadata": {},
   "outputs": [
    {
     "name": "stdout",
     "output_type": "stream",
     "text": [
      "Best_Model.h5  Scaler.pkl\r\n"
     ]
    }
   ],
   "source": [
    "!ls Models/LateNight/"
   ]
  },
  {
   "cell_type": "code",
   "execution_count": 6,
   "metadata": {},
   "outputs": [
    {
     "name": "stdout",
     "output_type": "stream",
     "text": [
      "B0_etapr-eta-gg2pi_KS-pi+pi-_output_ccbar_0.root\r\n",
      "B0_etapr-eta-gg2pi_KS-pi+pi-_output_charged_17.root\r\n",
      "B0_etapr-eta-gg2pi_KS-pi+pi-_output_DC_0.root\r\n",
      "B0_etapr-eta-gg2pi_KS-pi+pi-_output_DC_1.root\r\n",
      "B0_etapr-eta-gg2pi_KS-pi+pi-_output_DC_2.root\r\n",
      "B0_etapr-eta-gg2pi_KS-pi+pi-_output_DC_3.root\r\n",
      "B0_etapr-eta-gg2pi_KS-pi+pi-_output_DC_4.root\r\n",
      "B0_etapr-eta-gg2pi_KS-pi+pi-_output_DC_5.root\r\n",
      "B0_etapr-eta-gg2pi_KS-pi+pi-_output_DC_6.root\r\n",
      "B0_etapr-eta-gg2pi_KS-pi+pi-_output_DC_7.root\r\n",
      "B0_etapr-eta-gg2pi_KS-pi+pi-_output_DC_8.root\r\n",
      "B0_etapr-eta-gg2pi_KS-pi+pi-_output_DC_9.root\r\n",
      "B0_etapr-eta-gg2pi_KS-pi+pi-_output_ddbar_0.root\r\n",
      "B0_etapr-eta-gg2pi_KS-pi+pi-_output_mixed_0.root\r\n",
      "B0_etapr-eta-gg2pi_KS-pi+pi-_output_sgnMC9_BGx1_0.root\r\n",
      "B0_etapr-eta-gg2pi_KS-pi+pi-_output_ssbar_0.root\r\n",
      "B0_etapr-eta-gg2pi_KS-pi+pi-_output_tau_0.root\r\n",
      "B0_etapr-eta-gg2pi_KS-pi+pi-_output_uubar_0.root\r\n",
      "Belle2\r\n",
      "Continuous\r\n",
      "DC\r\n",
      "Peaking\r\n",
      "Signal\r\n",
      "Test\r\n"
     ]
    }
   ],
   "source": [
    "!ls ../DATA/"
   ]
  },
  {
   "cell_type": "code",
   "execution_count": 7,
   "metadata": {},
   "outputs": [],
   "source": [
    "from random import seed\n",
    "from random import randint\n",
    "\n",
    "n_seed=1234\n",
    "seed(n_seed)"
   ]
  },
  {
   "cell_type": "code",
   "execution_count": 8,
   "metadata": {},
   "outputs": [
    {
     "name": "stderr",
     "output_type": "stream",
     "text": [
      "Using TensorFlow backend.\n"
     ]
    }
   ],
   "source": [
    "Signal['Type'] = 2\n",
    "Continuum_bkg['Type'] = 1\n",
    "Peaking_bkg['Type'] = 0\n",
    "\n",
    "from sklearn.model_selection import train_test_split\n",
    "from keras.utils import to_categorical\n",
    "\n",
    "#SIGNAL: Train, Validation and test split (50%, 30%, 20%)\n",
    "#Dataset divided into 50% of train data and 50% for validation and test\n",
    "X = Signal.drop('Type',axis=1)\n",
    "Y = Signal['Type']\n",
    "#Y = to_categorical(Y, num_classes=3) # Binarize the labels\n",
    "X_train_S, X_test_val_S, Y_train_S, Y_test_val_S = train_test_split(X, Y, train_size=0.5,random_state=randint(10**6,10**9))\n",
    "#validation and test set divided into 30% for validation and 20% for test\n",
    "X = X_test_val_S\n",
    "Y = Y_test_val_S\n",
    "X_validation_S, X_test_S, Y_validation_S, Y_test_S = train_test_split(X, Y, train_size=0.6,random_state=randint(10**6,10**9))\n",
    "del(X_test_val_S)\n",
    "del(Y_test_val_S)\n",
    "\n",
    "#CONTINUUM BKG: Train, Validation and test split (50%, 30%, 20%)\n",
    "#Dataset divided into 50% of train data and 50% for validation and test\n",
    "X = Continuum_bkg.drop('Type',axis=1)\n",
    "Y = Continuum_bkg['Type']\n",
    "#Y = to_categorical(Y, num_classes=3) # Binarize the labels\n",
    "X_train_C, X_test_val_C, Y_train_C, Y_test_val_C = train_test_split(X, Y, train_size=0.5,random_state=randint(10**6,10**9))\n",
    "#validation and test set divided into 30% for validation and 20% for test\n",
    "X = X_test_val_C\n",
    "Y = Y_test_val_C\n",
    "X_validation_C, X_test_C, Y_validation_C, Y_test_C = train_test_split(X, Y, train_size=0.6,random_state=randint(10**6,10**9))\n",
    "del(X_test_val_C)\n",
    "del(Y_test_val_C)\n",
    "\n",
    "#PEAKING BKG: Train, Validation and test split (50%, 30%, 20%)\n",
    "#Dataset divided into 50% of train data and 50% for validation and test\n",
    "X = Peaking_bkg.drop('Type',axis=1)\n",
    "Y = Peaking_bkg['Type']\n",
    "#Y = to_categorical(Y, num_classes=3) # Binarize the labels\n",
    "X_train_P, X_test_val_P, Y_train_P, Y_test_val_P = train_test_split(X, Y, train_size=0.5,random_state=randint(10**6,10**9))\n",
    "#validation and test set divided into 30% for validation and 20% for test\n",
    "X = X_test_val_P\n",
    "Y = Y_test_val_P\n",
    "X_validation_P, X_test_P, Y_validation_P, Y_test_P = train_test_split(X, Y, train_size=0.6,random_state=randint(10**6,10**9))\n",
    "del(X_test_val_P)\n",
    "del(Y_test_val_P)\n",
    "\n",
    "# del(Signal)\n",
    "# del(Peaking_bkg)\n",
    "# del(Continuum_bkg)"
   ]
  },
  {
   "cell_type": "code",
   "execution_count": 9,
   "metadata": {},
   "outputs": [
    {
     "name": "stdout",
     "output_type": "stream",
     "text": [
      "(226320, 83)\n",
      "(135791, 83)\n",
      "(90529, 83)\n",
      "X Train shape :  (226320, 83)\n",
      "X Validation shape :  (135791, 83)\n",
      "X Test shape :  (90529, 83)\n"
     ]
    }
   ],
   "source": [
    "#Define Training, Validation and Test datasets\n",
    "X_Train=np.concatenate((X_train_S, X_train_C, X_train_P), axis=0)\n",
    "X_Validation=np.concatenate((X_validation_S, X_validation_C, X_validation_P), axis=0)\n",
    "X_Test=np.concatenate((X_test_S, X_test_C, X_test_P), axis=0)\n",
    "\n",
    "Y_Train=np.concatenate((Y_train_S, Y_train_C, Y_train_P), axis=0)\n",
    "Y_Validation=np.concatenate((Y_validation_S, Y_validation_C, Y_validation_P), axis=0)\n",
    "Y_Test=np.concatenate((Y_test_S, Y_test_C, Y_test_P), axis=0)\n",
    "\n",
    "Ỳ_Test_not_encoded=Y_Test #needed for cut value analysis\n",
    "\n",
    "Y_Train=to_categorical(Y_Train, num_classes=3) # Binarize the labels\n",
    "Y_Validation=to_categorical(Y_Validation, num_classes=3) # Binarize the labels\n",
    "Y_Test=to_categorical(Y_Test, num_classes=3) # Binarize the labels\n",
    "\n",
    "print(X_Train.shape)\n",
    "print(X_Validation.shape)\n",
    "print(X_Test.shape)\n",
    "\n",
    "print(\"X Train shape : \", X_Train.shape)\n",
    "print(\"X Validation shape : \",X_Validation.shape)\n",
    "print(\"X Test shape : \",X_Test.shape)\n",
    "n_classes = Y_Train.shape[1]\n",
    "\n",
    "\n",
    "#shuffle the dataset\n",
    "permutation = np.random.permutation(X_Train.shape[0])\n",
    "X_Train = X_Train[permutation]\n",
    "Y_Train = Y_Train[permutation]\n",
    "\n",
    "permutation = np.random.permutation(X_Validation.shape[0])\n",
    "X_Validation = X_Validation[permutation]\n",
    "Y_Validation = Y_Validation[permutation]\n",
    "\n",
    "permutation = np.random.permutation(X_Test.shape[0])\n",
    "X_Test = X_Test[permutation]\n",
    "Y_Test = Y_Test[permutation]"
   ]
  },
  {
   "cell_type": "code",
   "execution_count": 10,
   "metadata": {},
   "outputs": [
    {
     "name": "stderr",
     "output_type": "stream",
     "text": [
      "WARNING: Logging before flag parsing goes to stderr.\n",
      "W0722 09:21:31.975126 139901660645184 deprecation_wrapper.py:119] From /home/philipp/anaconda3/envs/Belle/lib/python3.7/site-packages/keras/backend/tensorflow_backend.py:517: The name tf.placeholder is deprecated. Please use tf.compat.v1.placeholder instead.\n",
      "\n",
      "W0722 09:21:32.003965 139901660645184 deprecation_wrapper.py:119] From /home/philipp/anaconda3/envs/Belle/lib/python3.7/site-packages/keras/backend/tensorflow_backend.py:131: The name tf.get_default_graph is deprecated. Please use tf.compat.v1.get_default_graph instead.\n",
      "\n",
      "W0722 09:21:32.004927 139901660645184 deprecation_wrapper.py:119] From /home/philipp/anaconda3/envs/Belle/lib/python3.7/site-packages/keras/backend/tensorflow_backend.py:133: The name tf.placeholder_with_default is deprecated. Please use tf.compat.v1.placeholder_with_default instead.\n",
      "\n",
      "W0722 09:21:32.016374 139901660645184 deprecation.py:506] From /home/philipp/anaconda3/envs/Belle/lib/python3.7/site-packages/keras/backend/tensorflow_backend.py:3445: calling dropout (from tensorflow.python.ops.nn_ops) with keep_prob is deprecated and will be removed in a future version.\n",
      "Instructions for updating:\n",
      "Please use `rate` instead of `keep_prob`. Rate should be set to `rate = 1 - keep_prob`.\n",
      "W0722 09:21:32.030602 139901660645184 deprecation_wrapper.py:119] From /home/philipp/anaconda3/envs/Belle/lib/python3.7/site-packages/keras/backend/tensorflow_backend.py:4138: The name tf.random_uniform is deprecated. Please use tf.random.uniform instead.\n",
      "\n",
      "W0722 09:21:32.088837 139901660645184 deprecation_wrapper.py:119] From /home/philipp/anaconda3/envs/Belle/lib/python3.7/site-packages/keras/backend/tensorflow_backend.py:174: The name tf.get_default_session is deprecated. Please use tf.compat.v1.get_default_session instead.\n",
      "\n",
      "W0722 09:21:32.306058 139901660645184 deprecation_wrapper.py:119] From /home/philipp/anaconda3/envs/Belle/lib/python3.7/site-packages/keras/optimizers.py:790: The name tf.train.Optimizer is deprecated. Please use tf.compat.v1.train.Optimizer instead.\n",
      "\n",
      "W0722 09:21:32.383084 139901660645184 deprecation.py:323] From /home/philipp/anaconda3/envs/Belle/lib/python3.7/site-packages/tensorflow/python/ops/math_grad.py:1250: add_dispatch_support.<locals>.wrapper (from tensorflow.python.ops.array_ops) is deprecated and will be removed in a future version.\n",
      "Instructions for updating:\n",
      "Use tf.where in 2.0, which has the same broadcast rule as np.where\n"
     ]
    },
    {
     "data": {
      "text/plain": [
       "{'copy': True, 'with_mean': True, 'with_std': True}"
      ]
     },
     "execution_count": 10,
     "metadata": {},
     "output_type": "execute_result"
    },
    {
     "name": "stderr",
     "output_type": "stream",
     "text": [
      "2019-07-22 09:21:32.090579: I tensorflow/core/platform/cpu_feature_guard.cc:145] This TensorFlow binary is optimized with Intel(R) MKL-DNN to use the following CPU instructions in performance critical operations:  SSE4.1 SSE4.2 AVX AVX2 FMA\n",
      "To enable them in non-MKL-DNN operations, rebuild TensorFlow with the appropriate compiler flags.\n",
      "2019-07-22 09:21:32.130300: I tensorflow/core/platform/profile_utils/cpu_utils.cc:94] CPU Frequency: 2400000000 Hz\n",
      "2019-07-22 09:21:32.131001: I tensorflow/compiler/xla/service/service.cc:168] XLA service 0x55debca02fa0 executing computations on platform Host. Devices:\n",
      "2019-07-22 09:21:32.131065: I tensorflow/compiler/xla/service/service.cc:175]   StreamExecutor device (0): <undefined>, <undefined>\n",
      "OMP: Info #212: KMP_AFFINITY: decoding x2APIC ids.\n",
      "OMP: Info #210: KMP_AFFINITY: Affinity capable, using global cpuid leaf 11 info\n",
      "OMP: Info #154: KMP_AFFINITY: Initial OS proc set respected: 0-3\n",
      "OMP: Info #156: KMP_AFFINITY: 4 available OS procs\n",
      "OMP: Info #157: KMP_AFFINITY: Uniform topology\n",
      "OMP: Info #179: KMP_AFFINITY: 1 packages x 2 cores/pkg x 2 threads/core (2 total cores)\n",
      "OMP: Info #214: KMP_AFFINITY: OS proc to physical thread map:\n",
      "OMP: Info #171: KMP_AFFINITY: OS proc 0 maps to package 0 core 0 thread 0 \n",
      "OMP: Info #171: KMP_AFFINITY: OS proc 2 maps to package 0 core 0 thread 1 \n",
      "OMP: Info #171: KMP_AFFINITY: OS proc 1 maps to package 0 core 1 thread 0 \n",
      "OMP: Info #171: KMP_AFFINITY: OS proc 3 maps to package 0 core 1 thread 1 \n",
      "OMP: Info #250: KMP_AFFINITY: pid 15133 tid 15133 thread 0 bound to OS proc set 0\n",
      "2019-07-22 09:21:32.134566: I tensorflow/core/common_runtime/process_util.cc:115] Creating new thread pool with default inter op setting: 2. Tune using inter_op_parallelism_threads for best performance.\n",
      "2019-07-22 09:21:32.247570: W tensorflow/compiler/jit/mark_for_compilation_pass.cc:1412] (One-time warning): Not using XLA:CPU for cluster because envvar TF_XLA_FLAGS=--tf_xla_cpu_global_jit was not set.  If you want XLA:CPU, either set that envvar, or use experimental_jit_scope to enable XLA:CPU.  To confirm that XLA is active, pass --vmodule=xla_compilation_cache=1 (as a proper command-line flag, not via TF_XLA_FLAGS) or set the envvar XLA_FLAGS=--xla_hlo_profile.\n"
     ]
    }
   ],
   "source": [
    "from keras.models import load_model\n",
    "from sklearn.preprocessing import StandardScaler\n",
    "\n",
    "Loaded_Model = load_model('Models/LateNight/Best_Model.h5')\n",
    "ss = joblib.load('Models/LateNight/Scaler.pkl')\n",
    "ss.get_params()"
   ]
  },
  {
   "cell_type": "code",
   "execution_count": 11,
   "metadata": {},
   "outputs": [],
   "source": [
    "X_Train = ss.fit_transform(X_Train)\n",
    "X_Test = ss.transform(X_Test)\n",
    "X_Validation = ss.transform(X_Validation)"
   ]
  },
  {
   "cell_type": "code",
   "execution_count": 12,
   "metadata": {},
   "outputs": [],
   "source": [
    "pcTrain = X_Train\n",
    "pcTest = X_Test\n",
    "pcValidation = X_Validation"
   ]
  },
  {
   "cell_type": "code",
   "execution_count": 13,
   "metadata": {},
   "outputs": [
    {
     "name": "stdout",
     "output_type": "stream",
     "text": [
      "226320/226320 [==============================] - 3s 12us/step\n"
     ]
    },
    {
     "data": {
      "text/plain": [
       "[0.052207134628092976, 0.9847605160834217]"
      ]
     },
     "execution_count": 13,
     "metadata": {},
     "output_type": "execute_result"
    },
    {
     "name": "stderr",
     "output_type": "stream",
     "text": [
      "OMP: Info #250: KMP_AFFINITY: pid 15133 tid 15208 thread 1 bound to OS proc set 1\n",
      "OMP: Info #250: KMP_AFFINITY: pid 15133 tid 15213 thread 2 bound to OS proc set 2\n",
      "OMP: Info #250: KMP_AFFINITY: pid 15133 tid 15214 thread 3 bound to OS proc set 3\n",
      "OMP: Info #250: KMP_AFFINITY: pid 15133 tid 15215 thread 4 bound to OS proc set 0\n",
      "OMP: Info #250: KMP_AFFINITY: pid 15133 tid 15209 thread 5 bound to OS proc set 1\n",
      "OMP: Info #250: KMP_AFFINITY: pid 15133 tid 15216 thread 6 bound to OS proc set 2\n",
      "OMP: Info #250: KMP_AFFINITY: pid 15133 tid 15217 thread 7 bound to OS proc set 3\n",
      "OMP: Info #250: KMP_AFFINITY: pid 15133 tid 15218 thread 8 bound to OS proc set 0\n"
     ]
    }
   ],
   "source": [
    "Loaded_Model.evaluate(pcTrain, Y_Train)"
   ]
  },
  {
   "cell_type": "code",
   "execution_count": 14,
   "metadata": {},
   "outputs": [
    {
     "data": {
      "text/plain": [
       "array([[1.6822576e-03, 9.9831772e-01, 4.0527541e-09],\n",
       "       [1.0750942e-03, 1.1136502e-04, 9.9881351e-01],\n",
       "       [1.4636972e-03, 9.9607038e-01, 2.4658560e-03],\n",
       "       ...,\n",
       "       [8.0536408e-03, 9.9194628e-01, 8.5730626e-08],\n",
       "       [2.1312661e-03, 9.9777812e-01, 9.0640504e-05],\n",
       "       [1.1660993e-03, 4.2315136e-05, 9.9879164e-01]], dtype=float32)"
      ]
     },
     "execution_count": 14,
     "metadata": {},
     "output_type": "execute_result"
    }
   ],
   "source": [
    "Test_prob = Loaded_Model.predict(pcTest)\n",
    "Test_prob"
   ]
  },
  {
   "cell_type": "code",
   "execution_count": 15,
   "metadata": {},
   "outputs": [],
   "source": [
    "Test_prob = Loaded_Model.predict(pcTest)\n",
    "np.argmax(Test_prob, axis=1)\n",
    "\n",
    "min_cut = 0.1\n",
    "max_cut = 0.99\n",
    "n_steps = 100\n",
    "step_size = (max_cut-min_cut)/n_steps\n",
    "\n",
    "cut_values = []\n",
    "metriks1 = []\n",
    "metriks2 = []\n",
    "metriks3 = []\n",
    "metriks4 = []\n",
    "N_Ss = []\n",
    "N_Bs = []\n",
    "\n",
    "for i in range(0, n_steps) : \n",
    "    cut_value = min_cut + i*step_size\n",
    "    cut_values.append(cut_value)\n",
    "    N_S = 0\n",
    "    N_B = 0\n",
    "    for j in range(len(Test_prob)) : \n",
    "        if Test_prob[j][2] > cut_value :           #we classify it as signal\n",
    "            if Y_Test[j][2] == 1 : N_S += 1        #it actually is signal\n",
    "            elif Y_Test[j][2] == 0 : N_B +=1       #it isn't signal\n",
    "            else : print(\"Unexpected!\")            #This should not happen\n",
    "    N_Ss.append(N_S)\n",
    "    N_Bs.append(N_B)\n",
    "    metrik1 = N_S/(math.sqrt(N_B+N_S))\n",
    "    metrik2 = N_S/math.sqrt(N_B)\n",
    "    metrik3 = N_S/N_B\n",
    "    metrik4 = math.sqrt(N_S)/(N_B)\n",
    "    metriks1.append(metrik1)\n",
    "    metriks2.append(metrik2)\n",
    "    metriks3.append(metrik3)    \n",
    "    metriks4.append(metrik4)"
   ]
  },
  {
   "cell_type": "code",
   "execution_count": 16,
   "metadata": {},
   "outputs": [
    {
     "data": {
      "image/png": "[encoded data removed]",
      "text/plain": [
       "<Figure size 864x864 with 4 Axes>"
      ]
     },
     "metadata": {
      "needs_background": "light"
     },
     "output_type": "display_data"
    }
   ],
   "source": [
    "fig, ax = plt.subplots(2,2,figsize = (12,12))\n",
    "ax[0][0].plot(cut_values, metriks1, 'o')\n",
    "ax[0][0].set_title(\"N_signal/sqrt(N_tot)\",fontsize=20)\n",
    "#plt.xlabel(\"Cut value on signal probability\",fontsize=20)\n",
    "ax[1][0].plot(cut_values, metriks2, 'o')\n",
    "ax[1][0].set_title(\"N_S/sqrt(N_B)\", fontsize=20)\n",
    "ax[0][1].plot(cut_values, metriks3, 'o')\n",
    "ax[0][1].set_title(\"N_S/N_B\", fontsize=20)\n",
    "ax[1][1].plot(cut_values, metriks3, 'o')\n",
    "ax[1][1].set_title(\"sqrt(N_S)/N_B\", fontsize=20)\n",
    "plt.show()"
   ]
  },
  {
   "cell_type": "code",
   "execution_count": 17,
   "metadata": {},
   "outputs": [
    {
     "data": {
      "text/plain": [
       "0.6962999999999999"
      ]
     },
     "execution_count": 17,
     "metadata": {},
     "output_type": "execute_result"
    }
   ],
   "source": [
    "cut_values[np.argmax(metriks1)]"
   ]
  },
  {
   "cell_type": "code",
   "execution_count": 18,
   "metadata": {},
   "outputs": [],
   "source": [
    "Test_prob = Loaded_Model.predict(pcTest)\n",
    "Y_Test_pred = np.argmax(Test_prob, axis=1)\n",
    "\n",
    "n_steps = 100\n",
    "cut_value = 0\n",
    "to_maximize=[]\n",
    "to_maximize_bis=[]\n",
    "cut_values=[]\n",
    "\n",
    "Test_df = pd.DataFrame({'Signal probability' : Test_prob[:,2],\n",
    "                        'Y_true' : Ỳ_Test_not_encoded,\n",
    "                        'Y_pred' : Y_Test_pred})\n",
    "\n",
    "\n",
    "for i in range (0, n_steps):\n",
    "    cut_value=i/n_steps \n",
    "    #cut_value = 0.98+(0.2*i)/n_steps #n_steps=1000 between 0.98 and 1\n",
    "    Test_df_sel = pd.DataFrame()\n",
    "    Test_df_sel = Test_df[Test_df['Signal probability']>cut_value] \n",
    "    N_tot=Test_df_sel.shape[0]\n",
    "    if N_tot==0:\n",
    "        print(\"******* ERROR!! N_tot is 0 *******\")\n",
    "        print(i)\n",
    "        break\n",
    "    #print(N_tot)\n",
    "    N_true_signal = Test_df_sel[Test_df_sel['Y_true']==2].shape[0]\n",
    "    #print(N_true_signal)\n",
    "    N_false_signal = Test_df_sel[Test_df_sel['Y_true']!=2].shape[0]\n",
    "    \n",
    "    if(N_tot != (N_true_signal+N_false_signal)):\n",
    "        print(\"****** ERROR!!! *********\")\n",
    "        break\n",
    "    else:\n",
    "        to_maximize.append(N_true_signal/math.sqrt(N_tot))\n",
    "        #to_maximize_bis.append(N_true_signal/N_false_signal)\n",
    "        cut_values.append(cut_value)\n",
    "    \n",
    "    \n",
    "#print(to_maximize)\n",
    "#print(cut_values)\n",
    "#print(len(cut_values))  "
   ]
  },
  {
   "cell_type": "code",
   "execution_count": 19,
   "metadata": {},
   "outputs": [
    {
     "data": {
      "image/png": "[encoded data removed]",
      "text/plain": [
       "<Figure size 972x684 with 1 Axes>"
      ]
     },
     "metadata": {
      "needs_background": "light"
     },
     "output_type": "display_data"
    },
    {
     "ename": "ValueError",
     "evalue": "x and y must have same first dimension, but have shapes (100,) and (0,)",
     "output_type": "error",
     "traceback": [
      "\u001b[0;31m---------------------------------------------------------------------------\u001b[0m",
      "\u001b[0;31mValueError\u001b[0m                                Traceback (most recent call last)",
      "\u001b[0;32m<ipython-input-19-46d944b215ab>\u001b[0m in \u001b[0;36m<module>\u001b[0;34m\u001b[0m\n\u001b[1;32m     12\u001b[0m \u001b[0mfig\u001b[0m\u001b[0;34m.\u001b[0m\u001b[0mset_size_inches\u001b[0m\u001b[0;34m(\u001b[0m\u001b[0;36m13.5\u001b[0m\u001b[0;34m,\u001b[0m \u001b[0;36m9.5\u001b[0m\u001b[0;34m)\u001b[0m\u001b[0;34m\u001b[0m\u001b[0m\n\u001b[1;32m     13\u001b[0m \u001b[0mplt\u001b[0m\u001b[0;34m.\u001b[0m\u001b[0mtick_params\u001b[0m\u001b[0;34m(\u001b[0m\u001b[0mlabelsize\u001b[0m\u001b[0;34m=\u001b[0m\u001b[0;36m15\u001b[0m\u001b[0;34m)\u001b[0m\u001b[0;34m\u001b[0m\u001b[0m\n\u001b[0;32m---> 14\u001b[0;31m \u001b[0mplt\u001b[0m\u001b[0;34m.\u001b[0m\u001b[0mplot\u001b[0m\u001b[0;34m(\u001b[0m\u001b[0mcut_values\u001b[0m\u001b[0;34m,\u001b[0m\u001b[0mto_maximize_bis\u001b[0m\u001b[0;34m,\u001b[0m \u001b[0;34m'o'\u001b[0m\u001b[0;34m)\u001b[0m\u001b[0;34m\u001b[0m\u001b[0m\n\u001b[0m\u001b[1;32m     15\u001b[0m \u001b[0mplt\u001b[0m\u001b[0;34m.\u001b[0m\u001b[0mtitle\u001b[0m\u001b[0;34m(\u001b[0m\u001b[0;34m\"Cut value maximizing Signal/sqrt(Background)\"\u001b[0m\u001b[0;34m,\u001b[0m\u001b[0mfontsize\u001b[0m\u001b[0;34m=\u001b[0m\u001b[0;36m30\u001b[0m\u001b[0;34m)\u001b[0m\u001b[0;34m\u001b[0m\u001b[0m\n\u001b[1;32m     16\u001b[0m \u001b[0mplt\u001b[0m\u001b[0;34m.\u001b[0m\u001b[0mxlabel\u001b[0m\u001b[0;34m(\u001b[0m\u001b[0;34m\"cut value on signal probability\"\u001b[0m\u001b[0;34m,\u001b[0m\u001b[0mfontsize\u001b[0m\u001b[0;34m=\u001b[0m\u001b[0;36m30\u001b[0m\u001b[0;34m)\u001b[0m\u001b[0;34m\u001b[0m\u001b[0m\n",
      "\u001b[0;32m~/anaconda3/envs/Belle/lib/python3.7/site-packages/matplotlib/pyplot.py\u001b[0m in \u001b[0;36mplot\u001b[0;34m(*args, **kwargs)\u001b[0m\n\u001b[1;32m   3356\u001b[0m                       mplDeprecation)\n\u001b[1;32m   3357\u001b[0m     \u001b[0;32mtry\u001b[0m\u001b[0;34m:\u001b[0m\u001b[0;34m\u001b[0m\u001b[0m\n\u001b[0;32m-> 3358\u001b[0;31m         \u001b[0mret\u001b[0m \u001b[0;34m=\u001b[0m \u001b[0max\u001b[0m\u001b[0;34m.\u001b[0m\u001b[0mplot\u001b[0m\u001b[0;34m(\u001b[0m\u001b[0;34m*\u001b[0m\u001b[0margs\u001b[0m\u001b[0;34m,\u001b[0m \u001b[0;34m**\u001b[0m\u001b[0mkwargs\u001b[0m\u001b[0;34m)\u001b[0m\u001b[0;34m\u001b[0m\u001b[0m\n\u001b[0m\u001b[1;32m   3359\u001b[0m     \u001b[0;32mfinally\u001b[0m\u001b[0;34m:\u001b[0m\u001b[0;34m\u001b[0m\u001b[0m\n\u001b[1;32m   3360\u001b[0m         \u001b[0max\u001b[0m\u001b[0;34m.\u001b[0m\u001b[0m_hold\u001b[0m \u001b[0;34m=\u001b[0m \u001b[0mwashold\u001b[0m\u001b[0;34m\u001b[0m\u001b[0m\n",
      "\u001b[0;32m~/anaconda3/envs/Belle/lib/python3.7/site-packages/matplotlib/__init__.py\u001b[0m in \u001b[0;36minner\u001b[0;34m(ax, *args, **kwargs)\u001b[0m\n\u001b[1;32m   1853\u001b[0m                         \u001b[0;34m\"the Matplotlib list!)\"\u001b[0m \u001b[0;34m%\u001b[0m \u001b[0;34m(\u001b[0m\u001b[0mlabel_namer\u001b[0m\u001b[0;34m,\u001b[0m \u001b[0mfunc\u001b[0m\u001b[0;34m.\u001b[0m\u001b[0m__name__\u001b[0m\u001b[0;34m)\u001b[0m\u001b[0;34m,\u001b[0m\u001b[0;34m\u001b[0m\u001b[0m\n\u001b[1;32m   1854\u001b[0m                         RuntimeWarning, stacklevel=2)\n\u001b[0;32m-> 1855\u001b[0;31m             \u001b[0;32mreturn\u001b[0m \u001b[0mfunc\u001b[0m\u001b[0;34m(\u001b[0m\u001b[0max\u001b[0m\u001b[0;34m,\u001b[0m \u001b[0;34m*\u001b[0m\u001b[0margs\u001b[0m\u001b[0;34m,\u001b[0m \u001b[0;34m**\u001b[0m\u001b[0mkwargs\u001b[0m\u001b[0;34m)\u001b[0m\u001b[0;34m\u001b[0m\u001b[0m\n\u001b[0m\u001b[1;32m   1856\u001b[0m \u001b[0;34m\u001b[0m\u001b[0m\n\u001b[1;32m   1857\u001b[0m         inner.__doc__ = _add_data_doc(inner.__doc__,\n",
      "\u001b[0;32m~/anaconda3/envs/Belle/lib/python3.7/site-packages/matplotlib/axes/_axes.py\u001b[0m in \u001b[0;36mplot\u001b[0;34m(self, *args, **kwargs)\u001b[0m\n\u001b[1;32m   1525\u001b[0m         \u001b[0mkwargs\u001b[0m \u001b[0;34m=\u001b[0m \u001b[0mcbook\u001b[0m\u001b[0;34m.\u001b[0m\u001b[0mnormalize_kwargs\u001b[0m\u001b[0;34m(\u001b[0m\u001b[0mkwargs\u001b[0m\u001b[0;34m,\u001b[0m \u001b[0m_alias_map\u001b[0m\u001b[0;34m)\u001b[0m\u001b[0;34m\u001b[0m\u001b[0m\n\u001b[1;32m   1526\u001b[0m \u001b[0;34m\u001b[0m\u001b[0m\n\u001b[0;32m-> 1527\u001b[0;31m         \u001b[0;32mfor\u001b[0m \u001b[0mline\u001b[0m \u001b[0;32min\u001b[0m \u001b[0mself\u001b[0m\u001b[0;34m.\u001b[0m\u001b[0m_get_lines\u001b[0m\u001b[0;34m(\u001b[0m\u001b[0;34m*\u001b[0m\u001b[0margs\u001b[0m\u001b[0;34m,\u001b[0m \u001b[0;34m**\u001b[0m\u001b[0mkwargs\u001b[0m\u001b[0;34m)\u001b[0m\u001b[0;34m:\u001b[0m\u001b[0;34m\u001b[0m\u001b[0m\n\u001b[0m\u001b[1;32m   1528\u001b[0m             \u001b[0mself\u001b[0m\u001b[0;34m.\u001b[0m\u001b[0madd_line\u001b[0m\u001b[0;34m(\u001b[0m\u001b[0mline\u001b[0m\u001b[0;34m)\u001b[0m\u001b[0;34m\u001b[0m\u001b[0m\n\u001b[1;32m   1529\u001b[0m             \u001b[0mlines\u001b[0m\u001b[0;34m.\u001b[0m\u001b[0mappend\u001b[0m\u001b[0;34m(\u001b[0m\u001b[0mline\u001b[0m\u001b[0;34m)\u001b[0m\u001b[0;34m\u001b[0m\u001b[0m\n",
      "\u001b[0;32m~/anaconda3/envs/Belle/lib/python3.7/site-packages/matplotlib/axes/_base.py\u001b[0m in \u001b[0;36m_grab_next_args\u001b[0;34m(self, *args, **kwargs)\u001b[0m\n\u001b[1;32m    404\u001b[0m                 \u001b[0mthis\u001b[0m \u001b[0;34m+=\u001b[0m \u001b[0margs\u001b[0m\u001b[0;34m[\u001b[0m\u001b[0;36m0\u001b[0m\u001b[0;34m]\u001b[0m\u001b[0;34m,\u001b[0m\u001b[0;34m\u001b[0m\u001b[0m\n\u001b[1;32m    405\u001b[0m                 \u001b[0margs\u001b[0m \u001b[0;34m=\u001b[0m \u001b[0margs\u001b[0m\u001b[0;34m[\u001b[0m\u001b[0;36m1\u001b[0m\u001b[0;34m:\u001b[0m\u001b[0;34m]\u001b[0m\u001b[0;34m\u001b[0m\u001b[0m\n\u001b[0;32m--> 406\u001b[0;31m             \u001b[0;32mfor\u001b[0m \u001b[0mseg\u001b[0m \u001b[0;32min\u001b[0m \u001b[0mself\u001b[0m\u001b[0;34m.\u001b[0m\u001b[0m_plot_args\u001b[0m\u001b[0;34m(\u001b[0m\u001b[0mthis\u001b[0m\u001b[0;34m,\u001b[0m \u001b[0mkwargs\u001b[0m\u001b[0;34m)\u001b[0m\u001b[0;34m:\u001b[0m\u001b[0;34m\u001b[0m\u001b[0m\n\u001b[0m\u001b[1;32m    407\u001b[0m                 \u001b[0;32myield\u001b[0m \u001b[0mseg\u001b[0m\u001b[0;34m\u001b[0m\u001b[0m\n\u001b[1;32m    408\u001b[0m \u001b[0;34m\u001b[0m\u001b[0m\n",
      "\u001b[0;32m~/anaconda3/envs/Belle/lib/python3.7/site-packages/matplotlib/axes/_base.py\u001b[0m in \u001b[0;36m_plot_args\u001b[0;34m(self, tup, kwargs)\u001b[0m\n\u001b[1;32m    381\u001b[0m             \u001b[0mx\u001b[0m\u001b[0;34m,\u001b[0m \u001b[0my\u001b[0m \u001b[0;34m=\u001b[0m \u001b[0mindex_of\u001b[0m\u001b[0;34m(\u001b[0m\u001b[0mtup\u001b[0m\u001b[0;34m[\u001b[0m\u001b[0;34m-\u001b[0m\u001b[0;36m1\u001b[0m\u001b[0;34m]\u001b[0m\u001b[0;34m)\u001b[0m\u001b[0;34m\u001b[0m\u001b[0m\n\u001b[1;32m    382\u001b[0m \u001b[0;34m\u001b[0m\u001b[0m\n\u001b[0;32m--> 383\u001b[0;31m         \u001b[0mx\u001b[0m\u001b[0;34m,\u001b[0m \u001b[0my\u001b[0m \u001b[0;34m=\u001b[0m \u001b[0mself\u001b[0m\u001b[0;34m.\u001b[0m\u001b[0m_xy_from_xy\u001b[0m\u001b[0;34m(\u001b[0m\u001b[0mx\u001b[0m\u001b[0;34m,\u001b[0m \u001b[0my\u001b[0m\u001b[0;34m)\u001b[0m\u001b[0;34m\u001b[0m\u001b[0m\n\u001b[0m\u001b[1;32m    384\u001b[0m \u001b[0;34m\u001b[0m\u001b[0m\n\u001b[1;32m    385\u001b[0m         \u001b[0;32mif\u001b[0m \u001b[0mself\u001b[0m\u001b[0;34m.\u001b[0m\u001b[0mcommand\u001b[0m \u001b[0;34m==\u001b[0m \u001b[0;34m'plot'\u001b[0m\u001b[0;34m:\u001b[0m\u001b[0;34m\u001b[0m\u001b[0m\n",
      "\u001b[0;32m~/anaconda3/envs/Belle/lib/python3.7/site-packages/matplotlib/axes/_base.py\u001b[0m in \u001b[0;36m_xy_from_xy\u001b[0;34m(self, x, y)\u001b[0m\n\u001b[1;32m    240\u001b[0m         \u001b[0;32mif\u001b[0m \u001b[0mx\u001b[0m\u001b[0;34m.\u001b[0m\u001b[0mshape\u001b[0m\u001b[0;34m[\u001b[0m\u001b[0;36m0\u001b[0m\u001b[0;34m]\u001b[0m \u001b[0;34m!=\u001b[0m \u001b[0my\u001b[0m\u001b[0;34m.\u001b[0m\u001b[0mshape\u001b[0m\u001b[0;34m[\u001b[0m\u001b[0;36m0\u001b[0m\u001b[0;34m]\u001b[0m\u001b[0;34m:\u001b[0m\u001b[0;34m\u001b[0m\u001b[0m\n\u001b[1;32m    241\u001b[0m             raise ValueError(\"x and y must have same first dimension, but \"\n\u001b[0;32m--> 242\u001b[0;31m                              \"have shapes {} and {}\".format(x.shape, y.shape))\n\u001b[0m\u001b[1;32m    243\u001b[0m         \u001b[0;32mif\u001b[0m \u001b[0mx\u001b[0m\u001b[0;34m.\u001b[0m\u001b[0mndim\u001b[0m \u001b[0;34m>\u001b[0m \u001b[0;36m2\u001b[0m \u001b[0;32mor\u001b[0m \u001b[0my\u001b[0m\u001b[0;34m.\u001b[0m\u001b[0mndim\u001b[0m \u001b[0;34m>\u001b[0m \u001b[0;36m2\u001b[0m\u001b[0;34m:\u001b[0m\u001b[0;34m\u001b[0m\u001b[0m\n\u001b[1;32m    244\u001b[0m             raise ValueError(\"x and y can be no greater than 2-D, but have \"\n",
      "\u001b[0;31mValueError\u001b[0m: x and y must have same first dimension, but have shapes (100,) and (0,)"
     ]
    },
    {
     "data": {
      "image/png": "[encoded data removed]",
      "text/plain": [
       "<Figure size 972x684 with 1 Axes>"
      ]
     },
     "metadata": {
      "needs_background": "light"
     },
     "output_type": "display_data"
    }
   ],
   "source": [
    "fig=plt.figure()\n",
    "fig.set_size_inches(13.5, 9.5)\n",
    "plt.tick_params(labelsize=15)\n",
    "plt.plot(cut_values,to_maximize, 'o')\n",
    "plt.title(\"Cut value maximizing Signal/sqrt(Total)\",fontsize=30)\n",
    "plt.xlabel(\"cut value on signal probability\",fontsize=30)\n",
    "plt.ylabel(\"N_signal/sqrt(N_tot)\",fontsize=30)\n",
    "plt.show()\n",
    "\n",
    "\n",
    "fig=plt.figure()\n",
    "fig.set_size_inches(13.5, 9.5)\n",
    "plt.tick_params(labelsize=15)\n",
    "plt.plot(cut_values,to_maximize_bis, 'o')\n",
    "plt.title(\"Cut value maximizing Signal/sqrt(Background)\",fontsize=30)\n",
    "plt.xlabel(\"cut value on signal probability\",fontsize=30)\n",
    "plt.ylabel(\"N_signal/sqrt(N_background)\",fontsize=30)\n",
    "plt.show()  "
   ]
  }
 ],
 "metadata": {
  "kernelspec": {
   "display_name": "Python 3",
   "language": "python",
   "name": "python3"
  },
  "language_info": {
   "codemirror_mode": {
    "name": "ipython",
    "version": 3
   },
   "file_extension": ".py",
   "mimetype": "text/x-python",
   "name": "python",
   "nbconvert_exporter": "python",
   "pygments_lexer": "ipython3",
   "version": "3.7.0"
  }
 },
 "nbformat": 4,
 "nbformat_minor": 2
}
